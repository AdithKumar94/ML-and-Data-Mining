{
 "cells": [
  {
   "cell_type": "code",
   "execution_count": 7,
   "metadata": {
    "colab": {
     "base_uri": "https://localhost:8080/",
     "height": 74,
     "resources": {
      "http://localhost:8080/nbextensions/google.colab/files.js": {
       "data": "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",
       "headers": [
        [
         "content-type",
         "application/javascript"
        ]
       ],
       "ok": true,
       "status": 200,
       "status_text": ""
      }
     }
    },
    "colab_type": "code",
    "id": "p5pQ2HgUkChr",
    "outputId": "913d270f-8367-4168-90cc-f71f94c51978"
   },
   "outputs": [
    {
     "data": {
      "text/html": [
       "\n",
       "     <input type=\"file\" id=\"files-c928c80e-6e53-41ac-a9b3-cb3684aad0a0\" name=\"files[]\" multiple disabled />\n",
       "     <output id=\"result-c928c80e-6e53-41ac-a9b3-cb3684aad0a0\">\n",
       "      Upload widget is only available when the cell has been executed in the\n",
       "      current browser session. Please rerun this cell to enable.\n",
       "      </output>\n",
       "      <script src=\"/nbextensions/google.colab/files.js\"></script> "
      ],
      "text/plain": [
       "<IPython.core.display.HTML object>"
      ]
     },
     "metadata": {
      "tags": []
     },
     "output_type": "display_data"
    },
    {
     "name": "stdout",
     "output_type": "stream",
     "text": [
      "Saving u.data to u (1).data\n"
     ]
    }
   ],
   "source": [
    "import pandas as pd\n",
    "import numpy as np\n",
    "from sklearn.metrics.pairwise import cosine_similarity\n",
    "import time\n",
    "import math\n",
    "\n",
    "pd.set_option('display.max_rows', 500)\n",
    "pd.set_option('display.max_columns', 500)\n",
    "pd.set_option('display.width', 1000)\n"
   ]
  },
  {
   "cell_type": "code",
   "execution_count": 0,
   "metadata": {
    "colab": {},
    "colab_type": "code",
    "id": "TnZ32DupmEuw"
   },
   "outputs": [],
   "source": [
    "def NonNegativemat(user_A,f=100,lamW=0.001,lamH=0.001, steps = 60):\n",
    "    #Step1\n",
    "    m,n = user_A.shape\n",
    "    ruihat = np.zeros((m,n))\n",
    "    W=np.random.rand(m,f)\n",
    "    H=np.random.rand(f,n)\n",
    "    gateActivated = False\n",
    "\n",
    "    #Step2\n",
    "    wup=np.zeros([m,f])\n",
    "    wdn=np.zeros([m,f])\n",
    "    hup=np.zeros([f,n])\n",
    "    hdn=np.zeros([f,n])\n",
    "    #Step 3 : repeat\n",
    "    for step in range(steps):\n",
    "        #Step 4\n",
    "        wup=np.zeros((m,f))\n",
    "        wdn=np.zeros((m,f))\n",
    "        hup=np.zeros((f,n))\n",
    "        hdn=np.zeros((f,n))\n",
    "        #Step 5\n",
    "        if step > 0:\n",
    "            print(\"step = \", step, \" error = \", norm_ei)\n",
    "\n",
    "\n",
    "        for u in range(0,m):\n",
    "            for i in range(0,n):\n",
    "                if user_A[u][i] > 0:\n",
    "                    #Step6\n",
    "                    ruihat[u][i] = np.dot(W[u,:],H[:, i])\n",
    "                    #Step7\n",
    "                    sum_ei = 0\n",
    "                    #Step8\n",
    "                    for v in range(m):\n",
    "                        if user_A[v][i] > 0:\n",
    "                            #Step 9\n",
    "                            sum_ei += (user_A[v][i] - np.dot(W[v,:],H[:, i])) ** 2\n",
    "                    #Step 10 ends for Step 8\n",
    "\n",
    "                    #Step11\n",
    "                    norm_ei = math.sqrt(sum_ei)\n",
    "                    #Step 12:\n",
    "                    for k in range (1, f):\n",
    "                        \n",
    "                        #Step 13,14,15,16\n",
    "                        try:\n",
    "                            wup[u][k] = float(wup[u][k] + H[k][i] * user_A[u][i]) / norm_ei\n",
    "                            wdn[u][k] = float(wdn[u][k] + H[k][i] * ruihat[u][i])/ norm_ei\n",
    "                            hup[k][i] = float(hup[k][i] + W[u][k] * user_A[u][i]) / norm_ei\n",
    "                            hdn[k][i] = float(hdn[k][i] + W[u][k] * ruihat[u][i]) / norm_ei\n",
    "                        except ZeroDivisionError:\n",
    "                            print(ruihat)\n",
    "                            return ruihat\n",
    "\n",
    "                      \n",
    "                    #if norm_ei ==0:\n",
    "                        #print(norm_ei)\n",
    "                    \n",
    "                    #Step 17 end for Step 12\n",
    "\n",
    "        #Step 18 end for step 5\n",
    "        #Step 19\n",
    "        for u in range(m):\n",
    "            total_movies_rated =sum(ii > 0 for ii in user_A[u])\n",
    "            if (total_movies_rated > 0):\n",
    "                #Step 20\n",
    "                for k in range (1, f):\n",
    "                    #Step 21\n",
    "                    try:\n",
    "                        W[u][k] = float(W[u][k] * wup[u][k])/float(wdn[u][k] + total_movies_rated * lamW * W[u][k])\n",
    "                    except ZeroDivisionError:\n",
    "                        print(ruihat)\n",
    "                        return ruihat,norm_ei\n",
    "\n",
    "                #Step 22 End for Step 20\n",
    "        #print(np.min(wdn),np.min(W))\n",
    "        # Step 23 end for Step 19\n",
    " \n",
    "        #Step 24:\n",
    "        \n",
    "        \n",
    "        for i in range(n):\n",
    "            total_users_rated =sum(ii > 0 for ii in user_A[:, i])\n",
    "            if (total_users_rated > 0):\n",
    "                #Step 25\n",
    "                for k in range (1, f):\n",
    "                    #Step 26\n",
    "                    try:\n",
    "                        H[k][i] =float (H[k][i] * hup[k][i])/float(hdn[k][i] + total_users_rated * lamH * H[k][i])\n",
    "                    except ZeroDivisionError:\n",
    "                        print(ruihat)\n",
    "                        return ruihat,norm_ei\n",
    "        for i in range(m):\n",
    "            for j in range(n):\n",
    "                ruihat[i][j] = np.dot(W[i,:],H[:,j])\n",
    "        \n",
    "            #Step 27 End for Step 25\n",
    "        #print(np.min(hdn),np.min(H))\n",
    "    # Step 28 end for Step 24\n",
    "    #STep29 end for Step 3\n",
    "\n",
    "    #Step 30\n",
    "    \n",
    "    return ruihat,norm_ei"
   ]
  },
  {
   "cell_type": "code",
   "execution_count": 0,
   "metadata": {
    "colab": {},
    "colab_type": "code",
    "id": "cWgzGub9zWBh"
   },
   "outputs": [],
   "source": [
    "#read data from file\n",
    "ratings = pd.read_csv(\"./ml-100k/u.data\",sep=\"\\t\",names = [\"user_id\", \"item_id\" , \"ratings\", \"timestamp\"])\n",
    "\n",
    "tab_user = ratings.pivot_table(columns = [\"item_id\"] , index = [\"user_id\"], values = \"ratings\")#fill_value=0)\n",
    "#centered cosine\n",
    "#It finds mean of each row and substract elementwise\n",
    "#read data from file\n",
    "ratings = pd.read_csv(\"./ml-100k/u.data\",sep=\"\\t\",names = [\"user_id\", \"item_id\" , \"ratings\", \"timestamp\"])\n",
    "\n",
    "\n",
    "user_A = tab_user\n",
    "user_A = user_A.fillna(0)\n",
    "user_A = np.array(user_A)"
   ]
  },
  {
   "cell_type": "code",
   "execution_count": 13,
   "metadata": {
    "colab": {
     "base_uri": "https://localhost:8080/",
     "height": 1000
    },
    "colab_type": "code",
    "id": "xRqvG6SxlK-G",
    "outputId": "9c65d0c5-5b47-4a0e-e655-2658a879ac2b"
   },
   "outputs": [
    {
     "name": "stdout",
     "output_type": "stream",
     "text": [
      " Running with 10  latent features\n",
      "step =  1  error =  2.504442476530374\n",
      "step =  2  error =  0.6932018933697269\n",
      "step =  3  error =  0.36634796634483197\n",
      "step =  4  error =  0.4352529526111337\n",
      "step =  5  error =  0.29940807269361713\n",
      "step =  6  error =  0.2826743343220534\n",
      "step =  7  error =  0.2055529784464051\n",
      "step =  8  error =  0.18408140389752994\n",
      "step =  9  error =  0.1921870527344483\n",
      "step =  10  error =  0.16095673822123335\n",
      "step =  11  error =  0.2580782803168714\n",
      "step =  12  error =  0.19779385041873812\n",
      "step =  13  error =  0.3186640534116916\n",
      "step =  14  error =  0.23082014568775996\n",
      "step =  15  error =  0.3604244982205488\n",
      "step =  16  error =  0.2635844184561233\n",
      "step =  17  error =  0.39283631719201517\n",
      "step =  18  error =  0.29289003107238604\n",
      "step =  19  error =  0.4032620525069764\n",
      " Running with 20  latent features\n",
      "step =  1  error =  6.568217084078033\n",
      "step =  2  error =  1.9517383404859978\n",
      "step =  3  error =  0.3792886083808964\n",
      "step =  4  error =  0.4683126666013116\n",
      "step =  5  error =  0.2775785682178307\n",
      "step =  6  error =  0.29890309154080297\n",
      "step =  7  error =  0.31212850789143226\n",
      "step =  8  error =  0.4669213196980439\n",
      "step =  9  error =  0.21923842571617827\n",
      "step =  10  error =  0.482194556642796\n",
      "step =  11  error =  0.1958415976300273\n",
      "step =  12  error =  0.4615509431972827\n",
      "step =  13  error =  0.18333587289014924\n",
      "step =  14  error =  0.4523278171265557\n",
      "step =  15  error =  0.18106844471023104\n",
      "step =  16  error =  0.4443754060894897\n",
      "step =  17  error =  0.18225429229075343\n",
      "step =  18  error =  0.43555217082626874\n",
      "step =  19  error =  0.1862998640960182\n",
      " Running with 40  latent features\n",
      "step =  1  error =  15.903900682841257\n",
      "step =  2  error =  3.3835008033721468\n",
      "step =  3  error =  1.774433657789818\n",
      "step =  4  error =  0.936420215222513\n",
      "step =  5  error =  0.4761929524105908\n",
      "step =  6  error =  0.5739148303456886\n",
      "step =  7  error =  0.34569190045371273\n",
      "step =  8  error =  0.3742821646761061\n",
      "step =  9  error =  0.383462559875422\n",
      "step =  10  error =  0.3289707885684968\n",
      "step =  11  error =  0.34096943141593195\n",
      "step =  12  error =  0.36222500042698796\n",
      "step =  13  error =  0.22815089115941495\n",
      "step =  14  error =  0.3925698248532381\n",
      "step =  15  error =  0.18919987113814674\n",
      "step =  16  error =  0.3829156031865988\n",
      "step =  17  error =  0.17206822049335685\n",
      "step =  18  error =  0.3568693986892083\n",
      "step =  19  error =  0.17157183997687597\n",
      " Running with 60  latent features\n",
      "step =  1  error =  25.847961035029094\n",
      "step =  2  error =  3.922736702351747\n",
      "step =  3  error =  3.331961277351042\n",
      "step =  4  error =  1.5853899122312487\n",
      "step =  5  error =  1.1165462883349924\n",
      "step =  6  error =  0.9661976481521837\n",
      "step =  7  error =  0.5689781386499887\n",
      "step =  8  error =  0.6513716015086671\n",
      "step =  9  error =  0.40294564231158525\n",
      "step =  10  error =  0.44690530872654316\n",
      "step =  11  error =  0.4314694231104286\n",
      "step =  12  error =  0.31825642326972736\n",
      "step =  13  error =  0.4576117074676024\n",
      "step =  14  error =  0.3253930243756781\n",
      "step =  15  error =  0.33748269393938995\n",
      "step =  16  error =  0.292536545889489\n",
      "step =  17  error =  0.2281784835786973\n",
      "step =  18  error =  0.3034939741149791\n",
      "step =  19  error =  0.19604546798999356\n",
      " Running with 80  latent features\n",
      "step =  1  error =  31.547905052697185\n",
      "step =  2  error =  4.2889087477016075\n",
      "step =  3  error =  10.40038399941803\n",
      "step =  4  error =  2.850037695327674\n",
      "step =  5  error =  3.8795911451606986\n",
      "step =  6  error =  2.226168844047775\n",
      "step =  7  error =  2.5746799436457843\n",
      "step =  8  error =  1.7424510426849562\n",
      "step =  9  error =  1.7901876067524518\n",
      "step =  10  error =  1.3564027824908407\n",
      "step =  11  error =  1.2955848175455933\n",
      "step =  12  error =  1.0567892011489959\n",
      "step =  13  error =  0.9820419773101132\n",
      "step =  14  error =  0.8404929750891896\n",
      "step =  15  error =  0.7852897911665343\n",
      "step =  16  error =  0.6999950658647683\n",
      "step =  17  error =  0.6427212336536041\n",
      "step =  18  error =  0.6038952377648129\n",
      "step =  19  error =  0.5315171978251599\n",
      " Running with 100  latent features\n",
      "step =  1  error =  46.153335840958825\n",
      "step =  2  error =  4.533731004696725\n",
      "step =  3  error =  10.292910423207475\n",
      "step =  4  error =  3.152165560865512\n",
      "step =  5  error =  5.148356925805618\n",
      "step =  6  error =  2.6844160332246836\n",
      "step =  7  error =  3.672321230955471\n",
      "step =  8  error =  2.2299540294225886\n",
      "step =  9  error =  2.655292245068962\n",
      "step =  10  error =  1.7816616802711531\n",
      "step =  11  error =  1.9038813165237831\n",
      "step =  12  error =  1.3649019873539503\n",
      "step =  13  error =  1.3531152763430954\n",
      "step =  14  error =  1.0199338139878291\n",
      "step =  15  error =  0.9772874566391849\n",
      "step =  16  error =  0.768356533125832\n",
      "step =  17  error =  0.7336576241441973\n",
      "step =  18  error =  0.6037476088986783\n",
      "step =  19  error =  0.5718451180100447\n"
     ]
    }
   ],
   "source": [
    "latent = [10,20,40,60,80,100] \n",
    "valList = []\n",
    "val = float('inf')\n",
    "best_latent = 0\n",
    "for i in latent:\n",
    "  print(\" Running with\" , i , \" latent features\")\n",
    "  matrix, RMSE = NonNegativemat(user_A,f=i,lamW=0.001,lamH=0.001, steps = 20)\n",
    "  valList.append(RMSE)\n",
    "  if RMSE < val:\n",
    "    best_latent = i\n",
    "    val = RMSE\n",
    "\n",
    "    \n",
    "  "
   ]
  },
  {
   "cell_type": "code",
   "execution_count": 14,
   "metadata": {
    "colab": {
     "base_uri": "https://localhost:8080/",
     "height": 34
    },
    "colab_type": "code",
    "id": "GV0T3fbilLJI",
    "outputId": "8f0eab93-47a1-4c78-d18c-e605c7fd8245"
   },
   "outputs": [
    {
     "name": "stdout",
     "output_type": "stream",
     "text": [
      "10 100\n"
     ]
    }
   ],
   "source": [
    "print(best_latent, i)"
   ]
  },
  {
   "cell_type": "code",
   "execution_count": 15,
   "metadata": {
    "colab": {
     "base_uri": "https://localhost:8080/",
     "height": 34
    },
    "colab_type": "code",
    "id": "GDHo_mtalK9U",
    "outputId": "31ca05aa-c8a1-4f4a-8dc2-62dc377504aa"
   },
   "outputs": [
    {
     "name": "stdout",
     "output_type": "stream",
     "text": [
      "0.49651471574796213\n"
     ]
    }
   ],
   "source": [
    "print(RMSE)"
   ]
  },
  {
   "cell_type": "code",
   "execution_count": 16,
   "metadata": {
    "colab": {
     "base_uri": "https://localhost:8080/",
     "height": 118
    },
    "colab_type": "code",
    "id": "vv7pZ9X5lK8Q",
    "outputId": "ceb3e6ae-fb60-4bb3-a7cc-904e2c723ab5"
   },
   "outputs": [
    {
     "data": {
      "text/plain": [
       "[0.3064560056480299,\n",
       " 0.4210698473019382,\n",
       " 0.36226812127484914,\n",
       " 0.3278730718238036,\n",
       " 0.5334051665843998,\n",
       " 0.49651471574796213]"
      ]
     },
     "execution_count": 16,
     "metadata": {
      "tags": []
     },
     "output_type": "execute_result"
    }
   ],
   "source": [
    "valList"
   ]
  },
  {
   "cell_type": "code",
   "execution_count": 19,
   "metadata": {
    "colab": {
     "base_uri": "https://localhost:8080/",
     "height": 283
    },
    "colab_type": "code",
    "id": "mTVI_i2J26Z5",
    "outputId": "6b65d3b3-c83b-4f1a-ebe8-60386d1562bb"
   },
   "outputs": [
    {
     "data": {
      "image/png": "[encoded data removed]",
      "text/plain": [
       "<Figure size 432x288 with 1 Axes>"
      ]
     },
     "metadata": {
      "tags": []
     },
     "output_type": "display_data"
    }
   ],
   "source": [
    "latent = [10,20,40,60,80,100] \n",
    "import matplotlib.pyplot as plt\n",
    "import seaborn as sns\n",
    "plt.plot(latent, valList, marker='o', c='black', linestyle = 'None')\n",
    "plt.xlabel('number of Latent Features used')\n",
    "plt.ylabel('RMSE')\n",
    "plt.show()\n"
   ]
  }
 ],
 "metadata": {
  "colab": {
   "name": "Untitled1.ipynb",
   "provenance": [],
   "version": "0.3.2"
  },
  "kernelspec": {
   "display_name": "Python 3",
   "language": "python",
   "name": "python3"
  },
  "language_info": {
   "codemirror_mode": {
    "name": "ipython",
    "version": 3
   },
   "file_extension": ".py",
   "mimetype": "text/x-python",
   "name": "python",
   "nbconvert_exporter": "python",
   "pygments_lexer": "ipython3",
   "version": "3.7.3"
  }
 },
 "nbformat": 4,
 "nbformat_minor": 1
}

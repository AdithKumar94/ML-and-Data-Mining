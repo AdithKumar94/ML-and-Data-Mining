{
 "cells": [
  {
   "cell_type": "code",
   "execution_count": 1,
   "metadata": {},
   "outputs": [],
   "source": [
    "import os\n",
    "import time\n",
    "\n",
    "# spark imports\n",
    "import findspark\n",
    "findspark.init()\n",
    "import pyspark\n",
    "from pyspark.sql import SparkSession\n",
    "from pyspark.sql.functions import UserDefinedFunction, explode, desc\n",
    "from pyspark.sql.types import StringType, ArrayType\n",
    "from pyspark.mllib.recommendation import ALS\n",
    "\n",
    "import math\n",
    "import numpy as np\n",
    "import pandas as pd\n",
    "import seaborn as sns\n",
    "import matplotlib.pyplot as plt\n",
    "\n",
    "%matplotlib inline"
   ]
  },
  {
   "cell_type": "code",
   "execution_count": 2,
   "metadata": {},
   "outputs": [],
   "source": [
    "# spark config\n",
    "spark = SparkSession \\\n",
    "    .builder \\\n",
    "    .appName(\"movie recommendation\") \\\n",
    "    .config(\"spark.driver.maxResultSize\", \"4g\") \\\n",
    "    .config(\"spark.driver.memory\", \"4g\") \\\n",
    "    .config(\"spark.executor.memory\", \"2g\") \\\n",
    "    .config(\"spark.master\", \"local[4]\") \\\n",
    "    .getOrCreate()\n",
    "# get spark context\n",
    "sc = spark.sparkContext"
   ]
  },
  {
   "cell_type": "code",
   "execution_count": 164,
   "metadata": {},
   "outputs": [],
   "source": [
    "genres = pd.read_csv(\"./ml-100k/u.item\",sep=\"|\",names = [\"item_id\", \"movie_title\",\\\n",
    "            \"release date\", \"video release date\", \"IMDb URL\", \"unknown\", \"Action\",\\\n",
    "            \"Adventure\",\"Animation\", \"Children's\", \"Comedy\", \"Crime\", \"Documentary\",\\\n",
    "            \"Drama\",\"Fantasy\", \"Film-Noir\", \"Horror\", \"Musical\", \"Mystery\",\\\n",
    "            \"Romance\",\"Sci-Fi\", \"Thriller\", \"War\", \"Western\"], encoding='latin-1')\n",
    "\n",
    "ratings = pd.read_csv(\"./ml-100k/u1.base\",sep=\"\\t\",names = [\"user_id\", \"item_id\" , \"ratings\", \"timestamp\"])\n",
    "users=pd.read_csv(\"./ml-100k/u.user\",sep='|',names=['user_id', 'age', 'sex', 'occupation', 'zip_code'])\n",
    "\n",
    "\n",
    "\n",
    "MovieG = list(genres.columns.values)[-19:]\n",
    "movgen=[]\n",
    "genres1 = np.array(genres)\n",
    "for i in range(len(genres)):\n",
    "    gen = []\n",
    "    for j in range(6,24):\n",
    "        if genres1[i][j] == 1:\n",
    "            gen.append(MovieG[j - 5])\n",
    "    movgen.append([i+1,gen])\n",
    "\n",
    "for i in range(len(movgen)):\n",
    "    movgen[i][1] = '|'.join(str(x) for x in movgen[i][1])\n",
    "    \n",
    "movgenDF = pd.DataFrame(movgen, columns=[\"item_id\",\"genres\"])    \n",
    "final_genres = pd.merge(genres, movgenDF, on = \"item_id\")\n",
    "final_genres = final_genres[[\"item_id\",\"movie_title\",\"genres\"]]\n",
    "final_genres[\"Year\"] = final_genres[\"movie_title\"].str.split(\" \").apply(lambda x: x[-1].lstrip('(').rstrip(')'))\n",
    "final_genres[\"movie_title\"] = final_genres[\"movie_title\"].str.split(\" \").apply(lambda x: ' '.join(str(x) for x in x[:-1]))\n",
    "movies = final_genres[[\"item_id\", \"movie_title\", \"genres\"]]\n"
   ]
  },
  {
   "cell_type": "code",
   "execution_count": 165,
   "metadata": {},
   "outputs": [],
   "source": [
    "movies = spark.createDataFrame(movies)\n",
    "ratings = spark.createDataFrame(ratings)"
   ]
  },
  {
   "cell_type": "code",
   "execution_count": 166,
   "metadata": {},
   "outputs": [
    {
     "name": "stdout",
     "output_type": "stream",
     "text": [
      "+-------+-----------+--------------------+\n",
      "|item_id|movie_title|              genres|\n",
      "+-------+-----------+--------------------+\n",
      "|      1|  Toy Story|Animation|Childre...|\n",
      "|      2|  GoldenEye|Action|Adventure|...|\n",
      "|      3| Four Rooms|            Thriller|\n",
      "|      4| Get Shorty| Action|Comedy|Drama|\n",
      "|      5|    Copycat|Crime|Drama|Thriller|\n",
      "+-------+-----------+--------------------+\n",
      "only showing top 5 rows\n",
      "\n"
     ]
    }
   ],
   "source": [
    "movies.show(5)"
   ]
  },
  {
   "cell_type": "code",
   "execution_count": 167,
   "metadata": {},
   "outputs": [
    {
     "name": "stdout",
     "output_type": "stream",
     "text": [
      "+-------+-------+-------+---------+\n",
      "|user_id|item_id|ratings|timestamp|\n",
      "+-------+-------+-------+---------+\n",
      "|      1|      1|      5|874965758|\n",
      "|      1|      2|      3|876893171|\n",
      "|      1|      3|      4|878542960|\n",
      "|      1|      4|      3|876893119|\n",
      "|      1|      5|      3|889751712|\n",
      "+-------+-------+-------+---------+\n",
      "only showing top 5 rows\n",
      "\n"
     ]
    }
   ],
   "source": [
    "ratings.show(5)"
   ]
  },
  {
   "cell_type": "code",
   "execution_count": 162,
   "metadata": {},
   "outputs": [
    {
     "name": "stdout",
     "output_type": "stream",
     "text": [
      "Distinct value of ratings\n",
      "[1, 2, 3, 4, 5]\n"
     ]
    }
   ],
   "source": [
    "print('Distinct value of ratings')\n",
    "print(sorted(ratings.select('ratings').distinct().rdd.map(lambda r: r[0]).collect()))"
   ]
  },
  {
   "cell_type": "code",
   "execution_count": 137,
   "metadata": {},
   "outputs": [
    {
     "data": {
      "text/plain": [
       "['user_id', 'item_id', 'ratings', 'timestamp']"
      ]
     },
     "execution_count": 137,
     "metadata": {},
     "output_type": "execute_result"
    }
   ],
   "source": [
    "ratings.columns"
   ]
  },
  {
   "cell_type": "code",
   "execution_count": 168,
   "metadata": {},
   "outputs": [
    {
     "name": "stdout",
     "output_type": "stream",
     "text": [
      "For the users that rated movies and the movies that were rated:\n",
      "Minimum number of ratings per user is 4\n",
      "Minimum number of ratings per movie is 1\n"
     ]
    }
   ],
   "source": [
    "minimum_ratings_user = ratings.groupBy('user_id').count().toPandas()['count'].min()\n",
    "minimum_ratings_movie = ratings.groupBy('item_id').count().toPandas()['count'].min()\n",
    "print('For the users that rated movies and the movies that were rated:')\n",
    "print('Minimum number of ratings per user is {}'.format(minimum_ratings_user))\n",
    "print('Minimum number of ratings per movie is {}'.format(minimum_ratings_movie))"
   ]
  },
  {
   "cell_type": "code",
   "execution_count": 169,
   "metadata": {},
   "outputs": [
    {
     "name": "stdout",
     "output_type": "stream",
     "text": [
      "141 out of 1650 movies are rated by only one user\n"
     ]
    }
   ],
   "source": [
    "one_rated_movie = sum(ratings.groupBy('item_id').count().toPandas()['count'] == 1)\n",
    "total_movies =ratings.select('item_id').distinct().count()\n",
    "print('{} out of {} movies are rated by only one user'.format(one_rated_movie, total_movies))"
   ]
  },
  {
   "cell_type": "code",
   "execution_count": 170,
   "metadata": {},
   "outputs": [
    {
     "name": "stdout",
     "output_type": "stream",
     "text": [
      "We have a total of 943 distinct users in the data sets\n"
     ]
    }
   ],
   "source": [
    "total_users = ratings.select('user_id').distinct().count()\n",
    "print('We have a total of {} distinct users in the data sets'.format(total_users))"
   ]
  },
  {
   "cell_type": "code",
   "execution_count": 171,
   "metadata": {},
   "outputs": [
    {
     "name": "stdout",
     "output_type": "stream",
     "text": [
      "We have a total of 1683 distinct movies in the data sets\n"
     ]
    }
   ],
   "source": [
    "total_movies = movies.select('item_id').distinct().count()\n",
    "print('We have a total of {} distinct movies in the data sets'.format(total_movies))"
   ]
  },
  {
   "cell_type": "code",
   "execution_count": 172,
   "metadata": {},
   "outputs": [
    {
     "name": "stdout",
     "output_type": "stream",
     "text": [
      "We have a total of 1650 distinct movies that are rated by users in ratings table\n",
      "We have 33 movies that are not rated yet\n"
     ]
    }
   ],
   "source": [
    "movies_rated = ratings.select('item_id').distinct().count()\n",
    "print('We have a total of {} distinct movies that are rated by users in ratings table'.format(movies_rated))\n",
    "print('We have {} movies that are not rated yet'.format(total_movies-movies_rated))"
   ]
  },
  {
   "cell_type": "markdown",
   "metadata": {},
   "source": [
    "\n"
   ]
  },
  {
   "cell_type": "code",
   "execution_count": 175,
   "metadata": {},
   "outputs": [
    {
     "name": "stdout",
     "output_type": "stream",
     "text": [
      "List movies that are not rated yet: \n",
      "+-------+--------------------+\n",
      "|item_id|         movie_title|\n",
      "+-------+--------------------+\n",
      "|    599|Police Story 4: P...|\n",
      "|    711|Substance of Fire...|\n",
      "|    814|Great Day in Harl...|\n",
      "|    830|            Power 98|\n",
      "|    852|   Bloody Child, The|\n",
      "|    857|   Paris Was a Woman|\n",
      "|   1156|               Cyclo|\n",
      "|   1236|Other Voices, Oth...|\n",
      "|   1309|Very Natural Thin...|\n",
      "|   1310|  Walk in the Sun, A|\n",
      "+-------+--------------------+\n",
      "only showing top 10 rows\n",
      "\n"
     ]
    }
   ],
   "source": [
    "movies.createOrReplaceTempView(\"movies\") \n",
    "ratings.createOrReplaceTempView(\"ratings\") \n",
    "print('List movies that are not rated yet: ')\n",
    "\n",
    "spark.sql(\"SELECT item_id, movie_title from movies where item_id not in (select distinct(item_id) from ratings)\").show(10)\n",
    "\n"
   ]
  },
  {
   "cell_type": "code",
   "execution_count": 176,
   "metadata": {},
   "outputs": [
    {
     "name": "stdout",
     "output_type": "stream",
     "text": [
      "All distinct genres: \n",
      "+-----------+\n",
      "|     genres|\n",
      "+-----------+\n",
      "|      Crime|\n",
      "|    Romance|\n",
      "|   Thriller|\n",
      "|  Adventure|\n",
      "| Children's|\n",
      "|      Drama|\n",
      "|        War|\n",
      "|Documentary|\n",
      "|    Fantasy|\n",
      "|    Mystery|\n",
      "|    Musical|\n",
      "|  Animation|\n",
      "|  Film-Noir|\n",
      "|     Horror|\n",
      "|    Western|\n",
      "|           |\n",
      "|     Comedy|\n",
      "|     Action|\n",
      "|     Sci-Fi|\n",
      "+-----------+\n",
      "\n"
     ]
    }
   ],
   "source": [
    "# define a udf for splitting the genres string\n",
    "splitter = UserDefinedFunction(lambda x: x.split('|'), ArrayType(StringType()))\n",
    "# query\n",
    "print('All distinct genres: ')\n",
    "movies.select(explode(splitter(\"genres\")).alias(\"genres\")).distinct().show()"
   ]
  },
  {
   "cell_type": "code",
   "execution_count": 178,
   "metadata": {},
   "outputs": [
    {
     "name": "stdout",
     "output_type": "stream",
     "text": [
      "+-----------+-----+\n",
      "|     genres|count|\n",
      "+-----------+-----+\n",
      "|      Drama|  726|\n",
      "|     Comedy|  505|\n",
      "|   Thriller|  252|\n",
      "|     Action|  252|\n",
      "|    Romance|  247|\n",
      "|  Adventure|  135|\n",
      "| Children's|  122|\n",
      "|      Crime|  109|\n",
      "|     Sci-Fi|  102|\n",
      "|     Horror|   92|\n",
      "|        War|   71|\n",
      "|    Mystery|   61|\n",
      "|    Musical|   56|\n",
      "|Documentary|   50|\n",
      "|  Animation|   42|\n",
      "|    Western|   27|\n",
      "|  Film-Noir|   24|\n",
      "|    Fantasy|   22|\n",
      "|           |    2|\n",
      "+-----------+-----+\n",
      "\n"
     ]
    }
   ],
   "source": [
    "movies.select('item_id', explode(splitter(\"genres\")).alias(\"genres\")) \\\n",
    "    .groupby('genres') \\\n",
    "    .count() \\\n",
    "    .sort(desc('count')) \\\n",
    "    .show()"
   ]
  },
  {
   "cell_type": "code",
   "execution_count": 179,
   "metadata": {},
   "outputs": [],
   "source": [
    "#loading data \n",
    "movie_rating = sc.textFile(\"./ml-100k/u.data\")\n"
   ]
  },
  {
   "cell_type": "code",
   "execution_count": 180,
   "metadata": {},
   "outputs": [
    {
     "data": {
      "text/plain": [
       "PythonRDD[22203] at RDD at PythonRDD.scala:52"
      ]
     },
     "execution_count": 180,
     "metadata": {},
     "output_type": "execute_result"
    }
   ],
   "source": [
    "#preprocessing data\n",
    "rating_data = movie_rating \\\n",
    "    .filter(lambda line: line!=header) \\\n",
    "    .map(lambda line: line.split(\"\\t\")) \\\n",
    "    .map(lambda tokens: (int(tokens[0]), int(tokens[1]), float(tokens[2]))) \\\n",
    "    .cache()\n",
    "\n",
    "\n",
    "#splitting\n",
    "train,validation,test = rating_data.randomSplit([6,2,2], seed = 0)\n",
    "train.cache()\n",
    "validation.cache()\n",
    "test.cache()"
   ]
  },
  {
   "cell_type": "code",
   "execution_count": 181,
   "metadata": {},
   "outputs": [],
   "source": [
    "def train_ALS(train_data, validation_data, num_iters, reg_param, ranks):\n",
    "    min_error = float('inf')\n",
    "    best_rank = -1\n",
    "    best_regularization = 0\n",
    "    best_model = None\n",
    "    RankList = []\n",
    "    RegParamList = []\n",
    "    errorList = []\n",
    "    for rank in ranks:\n",
    "        for reg in reg_param:\n",
    "            model = ALS.train(ratings = train_data, iterations = num_iters, rank = rank, lambda_ = reg, seed = 0)\n",
    "            valid_data = validation_data.map(lambda p: (p[0], p[1]))\n",
    "            predictions = model.predictAll(valid_data).map(lambda r: ((r[0], r[1]), r[2]))\n",
    "            ratesAndPreds = validation_data.map(lambda r: ((r[0], r[1]), r[2])).join(predictions)\n",
    "            #get RMSE\n",
    "            MSE = ratesAndPreds.map(lambda r: (r[1][0] - r[1][1])**2).mean()\n",
    "            error = math.sqrt(MSE)\n",
    "            RankList.append(rank)\n",
    "            RegParamList.append(reg)\n",
    "            errorList.append(error)\n",
    "            \n",
    "            print('{} latent factors and regularization = {}: validation RMSE is {}'.format(rank, reg, error))\n",
    "            \n",
    "            if error < min_error:\n",
    "                min_error = error\n",
    "                best_rank = rank\n",
    "                best_regularization = reg\n",
    "                best_model = model\n",
    "    print('\\nThe best model has {} latent factors and regularization = {}'.format(best_rank, best_regularization))\n",
    "    return best_model,RankList,RegParamList,errorList"
   ]
  },
  {
   "cell_type": "code",
   "execution_count": 182,
   "metadata": {},
   "outputs": [
    {
     "name": "stdout",
     "output_type": "stream",
     "text": [
      "8 latent factors and regularization = 0.001: validation RMSE is 1.3369472336001607\n",
      "8 latent factors and regularization = 0.01: validation RMSE is 1.1157307624388038\n",
      "8 latent factors and regularization = 0.05: validation RMSE is 0.988979955489546\n",
      "8 latent factors and regularization = 0.1: validation RMSE is 0.9444843607210194\n",
      "8 latent factors and regularization = 0.2: validation RMSE is 0.9455376191359919\n",
      "10 latent factors and regularization = 0.001: validation RMSE is 1.4283407981685312\n",
      "10 latent factors and regularization = 0.01: validation RMSE is 1.1715788026976255\n",
      "10 latent factors and regularization = 0.05: validation RMSE is 1.0062485941402246\n",
      "10 latent factors and regularization = 0.1: validation RMSE is 0.9489511245138381\n",
      "10 latent factors and regularization = 0.2: validation RMSE is 0.947043958396967\n",
      "12 latent factors and regularization = 0.001: validation RMSE is 1.5284832111277524\n",
      "12 latent factors and regularization = 0.01: validation RMSE is 1.200066626110853\n",
      "12 latent factors and regularization = 0.05: validation RMSE is 1.0049887669748274\n",
      "12 latent factors and regularization = 0.1: validation RMSE is 0.9504549237521133\n",
      "12 latent factors and regularization = 0.2: validation RMSE is 0.9466759441761907\n",
      "14 latent factors and regularization = 0.001: validation RMSE is 1.5690718340424015\n",
      "14 latent factors and regularization = 0.01: validation RMSE is 1.2273486390943817\n",
      "14 latent factors and regularization = 0.05: validation RMSE is 1.0065056300833732\n",
      "14 latent factors and regularization = 0.1: validation RMSE is 0.9491620530809897\n",
      "14 latent factors and regularization = 0.2: validation RMSE is 0.9464036734597261\n",
      "16 latent factors and regularization = 0.001: validation RMSE is 1.5823608945842793\n",
      "16 latent factors and regularization = 0.01: validation RMSE is 1.2519246610773014\n",
      "16 latent factors and regularization = 0.05: validation RMSE is 1.0206088496541479\n",
      "16 latent factors and regularization = 0.1: validation RMSE is 0.9506503629204645\n",
      "16 latent factors and regularization = 0.2: validation RMSE is 0.9477587810823714\n",
      "18 latent factors and regularization = 0.001: validation RMSE is 1.6310863718021753\n",
      "18 latent factors and regularization = 0.01: validation RMSE is 1.2547731339796606\n",
      "18 latent factors and regularization = 0.05: validation RMSE is 1.0138412695344825\n",
      "18 latent factors and regularization = 0.1: validation RMSE is 0.9493074643463584\n",
      "18 latent factors and regularization = 0.2: validation RMSE is 0.947834344677975\n",
      "20 latent factors and regularization = 0.001: validation RMSE is 1.6241596006305816\n",
      "20 latent factors and regularization = 0.01: validation RMSE is 1.2714405971435558\n",
      "20 latent factors and regularization = 0.05: validation RMSE is 1.0168104661353137\n",
      "20 latent factors and regularization = 0.1: validation RMSE is 0.9470876521930998\n",
      "20 latent factors and regularization = 0.2: validation RMSE is 0.9476650454563054\n",
      "\n",
      "The best model has 8 latent factors and regularization = 0.1\n",
      "Total Runtime: 784.05 seconds\n"
     ]
    }
   ],
   "source": [
    "# hyper-param config\n",
    "num_iterations = 10\n",
    "ranks = [8, 10, 12, 14, 16, 18, 20]\n",
    "reg_params = [0.001, 0.01, 0.05, 0.1, 0.2]\n",
    "\n",
    "# grid search and select best model\n",
    "start_time = time.time()\n",
    "final_model = train_ALS(train, validation, num_iterations, reg_params, ranks)\n",
    "\n",
    "print ('Total Runtime: {:.2f} seconds'.format(time.time() - start_time))"
   ]
  },
  {
   "cell_type": "code",
   "execution_count": 227,
   "metadata": {},
   "outputs": [
    {
     "data": {
      "image/png": "[encoded data removed]",
      "text/plain": [
       "<Figure size 432x288 with 1 Axes>"
      ]
     },
     "metadata": {
      "needs_background": "light"
     },
     "output_type": "display_data"
    },
    {
     "data": {
      "image/png": "[encoded data removed]",
      "text/plain": [
       "<Figure size 432x288 with 1 Axes>"
      ]
     },
     "metadata": {
      "needs_background": "light"
     },
     "output_type": "display_data"
    }
   ],
   "source": [
    "import seaborn as sns\n",
    "plt.plot(RankList, errorList, marker='o', c='black', linestyle = 'None')\n",
    "plt.xlabel('number of Latent Features used')\n",
    "plt.ylabel('RMSE')\n",
    "plt.show()\n",
    "\n",
    "\n",
    "plt.xlabel('regularisation Parameters')\n",
    "plt.ylabel('RMSE')\n",
    "plt.plot(RegParamList, errorList, marker='o',  linestyle = 'None')\n",
    "plt.show()\n",
    "\n",
    "\n"
   ]
  },
  {
   "cell_type": "code",
   "execution_count": 187,
   "metadata": {},
   "outputs": [],
   "source": [
    "def plotting(arr_iters, train_data, validation_data, reg, rank):\n",
    "    errors = []\n",
    "    for num_iters in arr_iters:\n",
    "        # train ALS model\n",
    "        model = ALS.train(\n",
    "            ratings=train_data,    # (userID, productID, rating) tuple\n",
    "            iterations=num_iters,\n",
    "            rank=rank,\n",
    "            lambda_=reg,           # regularization param\n",
    "            seed=0)\n",
    "        # make prediction\n",
    "        valid_data = validation_data.map(lambda p: (p[0], p[1]))\n",
    "        predictions = model.predictAll(valid_data).map(lambda r: ((r[0], r[1]), r[2]))\n",
    "        # get the rating result\n",
    "        ratesAndPreds = validation_data.map(lambda r: ((r[0], r[1]), r[2])).join(predictions)\n",
    "        # get the RMSE\n",
    "        MSE = ratesAndPreds.map(lambda r: (r[1][0] - r[1][1])**2).mean()\n",
    "        error = math.sqrt(MSE)\n",
    "        # add to errors\n",
    "        errors.append(error)\n",
    "\n",
    "    # plot\n",
    "    plt.figure(figsize=(12, 6))\n",
    "    plt.plot(arr_iters, errors)\n",
    "    plt.xlabel('number of iterations')\n",
    "    plt.ylabel('RMSE')\n",
    "    plt.title('ALS Learning Curve')\n",
    "    plt.grid(True)\n",
    "    plt.show()"
   ]
  },
  {
   "cell_type": "code",
   "execution_count": 188,
   "metadata": {},
   "outputs": [
    {
     "data": {
      "image/png": "[encoded data removed]",
      "text/plain": [
       "<Figure size 864x432 with 1 Axes>"
      ]
     },
     "metadata": {
      "needs_background": "light"
     },
     "output_type": "display_data"
    }
   ],
   "source": [
    "\n",
    "# create an array of num_iters\n",
    "iter_array = list(range(1, 11))\n",
    "# create learning curve plot\n",
    "plotting(iter_array, train, validation, 0.1, 8)"
   ]
  },
  {
   "cell_type": "code",
   "execution_count": 196,
   "metadata": {},
   "outputs": [],
   "source": [
    "def movie_recommendations(user_input_movie, iterations, latent, lambdaF, ratings, movies, recommendations, sparkC):\n",
    "        #get movie list of user input first\n",
    "        movieIdList = []\n",
    "        for movie in user_input_movie:\n",
    "            movieID = movies.filter(movies.movie_title.like('%{}%'.format(movie)))\\\n",
    "                                 .select('item_id')\\\n",
    "                                 .rdd\\\n",
    "                                 .map(lambda r: r[0])\\\n",
    "                                 .collect()\n",
    "            movieIdList.extend(movieID)\n",
    "        movieIdList = list(set(movieIdList))\n",
    "        \n",
    "        #next adding new users to the list\n",
    "        new_user = ratings.map(lambda r: r[0]).max() + 1\n",
    "        max_rating = ratings.map(lambda r: r[2]). max()\n",
    "        \n",
    "        #create new user RDD\n",
    "        user_rows = [(new_user, movieId, max_rating) for movieId in movieIdList]\n",
    "        new_rdd= sparkC.parallelize(user_rows)\n",
    "        ratings2 = ratings.union(new_rdd)\n",
    "        \n",
    "        \n",
    "        \n",
    "        # train best ALS\n",
    "        model = ALS.train(\n",
    "        ratings=ratings2,\n",
    "        iterations=iterations,\n",
    "        rank=latent,\n",
    "        lambda_=lambdaF,\n",
    "        seed=0)\n",
    "        \n",
    "        # get new user id\n",
    "        new_id = ratings.map(lambda r: r[0]).max() + 1\n",
    "        inference_rdd = movies.rdd \\\n",
    "        .map(lambda r: r[0]) \\\n",
    "        .distinct() \\\n",
    "        .filter(lambda x: x not in movieIdList) \\\n",
    "        .map(lambda x: (new_id, x))\n",
    "        \n",
    "        \n",
    "        predictions = model.predictAll(inference_rdd).map(lambda r: (r[1], r[2]))\n",
    "        topn_rows = predictions.sortBy(lambda r: r[1], ascending=False).take(recommendations)\n",
    "        topn_ids = [r[0] for r in topn_rows]\n",
    "        \n",
    "        return movies.filter(movies.item_id.isin(topn_ids)) \\\n",
    "                .select('movie_title') \\\n",
    "                .rdd \\\n",
    "                .map(lambda r: r[0]) \\\n",
    "                .collect()\n",
    "\n",
    "\n",
    "    "
   ]
  },
  {
   "cell_type": "code",
   "execution_count": 197,
   "metadata": {},
   "outputs": [
    {
     "name": "stdout",
     "output_type": "stream",
     "text": [
      "Recommendations for Power 98:\n",
      "1: Little Rascals, The\n",
      "2: Son in Law\n",
      "3: Fair Game\n",
      "4: Baby-Sitters Club, The\n",
      "5: Cabin Boy\n",
      "6: Dracula: Dead and Loving It\n",
      "7: Jade\n",
      "8: Mixed Nuts\n",
      "9: Harlem\n",
      "10: Tough and Deadly\n"
     ]
    }
   ],
   "source": [
    "\n",
    "# my favorite movies\n",
    "my_favorite_movies = ['Power 98']\n",
    "\n",
    "# get recommends\n",
    "recommends = movie_recommendations(\n",
    "    user_input_movie = my_favorite_movies, iterations = 10, latent = 8, \n",
    "    lambdaF = 0.1, ratings = rating_data, movies = movies, recommendations = 10, sparkC = sc)\n",
    "\n",
    "print('Recommendations for {}:'.format(my_favorite_movies[0]))\n",
    "for i, title in enumerate(recommends):\n",
    "    print('{0}: {1}'.format(i+1, title))"
   ]
  },
  {
   "cell_type": "code",
   "execution_count": 203,
   "metadata": {},
   "outputs": [
    {
     "name": "stdout",
     "output_type": "stream",
     "text": [
      "Recommendations for Power 98:\n",
      "1: Free Willy 2: The Adventure Home\n",
      "2: Wishmaster\n",
      "3: Jingle All the Way\n",
      "4: For Richer or Poorer\n",
      "5: Bloodsport 2\n",
      "6: Mixed Nuts\n",
      "7: Tie That Binds, The\n",
      "8: I'll Do Anything\n",
      "9: Drunks\n",
      "10: 8 Seconds\n",
      "Recommendations for Power 98:\n",
      "1: Deep Rising\n",
      "2: Little Rascals, The\n",
      "3: Star Trek V: The Final Frontier\n",
      "4: Three Caballeros, The\n",
      "5: Mr. Magoo\n",
      "6: That Darn Cat!\n",
      "7: Quest, The\n",
      "8: Mixed Nuts\n",
      "9: Man in the Iron Mask, The\n",
      "10: Tough and Deadly\n",
      "Recommendations for Power 98:\n",
      "1: Free Willy 3: The Rescue\n",
      "2: True Crime\n",
      "3: Boys Life\n",
      "4: Two or Three Things I Know About Her\n",
      "5: Jingle All the Way\n",
      "6: Cabin Boy\n",
      "7: Dracula: Dead and Loving It\n",
      "8: Alphaville\n",
      "9: Poison Ivy II\n",
      "10: Street Fighter\n",
      "Recommendations for Power 98:\n",
      "1: First Knight\n",
      "2: For Richer or Poorer\n",
      "3: Solo\n",
      "4: Cabin Boy\n",
      "5: Homeward Bound II: Lost in San Francisco\n",
      "6: Drop Dead Fred\n",
      "7: I'm Not Rappaport\n",
      "8: Out to Sea\n",
      "9: Harlem\n",
      "10: Street Fighter\n",
      "Recommendations for Power 98:\n",
      "1: Kicking and Screaming\n",
      "2: Home for the Holidays\n",
      "3: Fair Game\n",
      "4: Cabin Boy\n",
      "5: Dracula: Dead and Loving It\n",
      "6: Faithful\n",
      "7: Stalker\n",
      "8: Nénette et Boni\n",
      "9: Total Eclipse\n",
      "10: Gumby: The Movie\n"
     ]
    }
   ],
   "source": [
    "#Running on different partitions of the dataset\n",
    "train_data_sets = ['./ml-100k/u1.base','./ml-100k/u2.base','./ml-100k/u3.base','./ml-100k/u4.base','./ml-100k/u5.base']\n",
    "test_data_sets = ['./ml-100k/u1.test','./ml-100k/u2.test','./ml-100k/u3.test','./ml-100k/u4.test','./ml-100k/u5.test']\n",
    "for i in train_data_sets:\n",
    "    \n",
    "    movie_rating = sc.textFile(i)\n",
    "    #preprocessing data\n",
    "    rating_data = movie_rating \\\n",
    "        .filter(lambda line: line!=header) \\\n",
    "        .map(lambda line: line.split(\"\\t\")) \\\n",
    "        .map(lambda tokens: (int(tokens[0]), int(tokens[1]), float(tokens[2]))) \\\n",
    "        .cache()\n",
    "    \n",
    "    #splitting\n",
    "    train,validation,test = rating_data.randomSplit([6,2,2], seed = 0)\n",
    "    train.cache()\n",
    "    validation.cache()\n",
    "    test.cache()\n",
    "    # my favorite movies\n",
    "    my_favorite_movies = ['Power 98']\n",
    "\n",
    "    # get recommends\n",
    "    recommends = movie_recommendations(\n",
    "        user_input_movie = my_favorite_movies, iterations = 10, latent = 8, \n",
    "        lambdaF = 0.1, ratings = rating_data, movies = movies, recommendations = 10, sparkC = sc)\n",
    "\n",
    "    print('Recommendations for {}:'.format(my_favorite_movies[0]))\n",
    "    for i, title in enumerate(recommends):\n",
    "        print('{0}: {1}'.format(i+1, title))\n",
    "\n"
   ]
  }
 ],
 "metadata": {
  "kernelspec": {
   "display_name": "Python 3",
   "language": "python",
   "name": "python3"
  },
  "language_info": {
   "codemirror_mode": {
    "name": "ipython",
    "version": 3
   },
   "file_extension": ".py",
   "mimetype": "text/x-python",
   "name": "python",
   "nbconvert_exporter": "python",
   "pygments_lexer": "ipython3",
   "version": "3.7.3"
  }
 },
 "nbformat": 4,
 "nbformat_minor": 2
}
